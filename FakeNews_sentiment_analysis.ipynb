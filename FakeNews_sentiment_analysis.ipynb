{
 "cells": [
  {
   "cell_type": "code",
   "execution_count": 1,
   "metadata": {},
   "outputs": [],
   "source": [
    "# Importing all necessary libraries\n",
    "import itertools\n",
    "import numpy as np\n",
    "import os, glob\n",
    "import pandas as pd\n",
    "from sklearn.feature_extraction.text import TfidfVectorizer, CountVectorizer\n",
    "from sklearn.metrics import accuracy_score\n",
    "from sklearn.metrics import precision_score\n",
    "from sklearn.metrics import recall_score\n",
    "from sklearn.metrics import f1_score\n",
    "from sklearn.metrics import confusion_matrix\n",
    "from sklearn.model_selection import train_test_split\n",
    "from sklearn.naive_bayes import MultinomialNB\n",
    "from sklearn.utils import shuffle\n",
    "from time import time"
   ]
  },
  {
   "cell_type": "code",
   "execution_count": 2,
   "metadata": {},
   "outputs": [
    {
     "name": "stdout",
     "output_type": "stream",
     "text": [
      "(44898, 5)\n"
     ]
    },
    {
     "data": {
      "text/html": [
       "<div>\n",
       "<style scoped>\n",
       "    .dataframe tbody tr th:only-of-type {\n",
       "        vertical-align: middle;\n",
       "    }\n",
       "\n",
       "    .dataframe tbody tr th {\n",
       "        vertical-align: top;\n",
       "    }\n",
       "\n",
       "    .dataframe thead th {\n",
       "        text-align: right;\n",
       "    }\n",
       "</style>\n",
       "<table border=\"1\" class=\"dataframe\">\n",
       "  <thead>\n",
       "    <tr style=\"text-align: right;\">\n",
       "      <th></th>\n",
       "      <th>date</th>\n",
       "      <th>label</th>\n",
       "      <th>subject</th>\n",
       "      <th>text</th>\n",
       "      <th>title</th>\n",
       "    </tr>\n",
       "  </thead>\n",
       "  <tbody>\n",
       "    <tr>\n",
       "      <th>8737</th>\n",
       "      <td>January 15, 2016</td>\n",
       "      <td>Fake.csv</td>\n",
       "      <td>News</td>\n",
       "      <td>Earlier this week, as public outrage and media...</td>\n",
       "      <td>MI Gov. Dick Sends SEVEN National Guardsman T...</td>\n",
       "    </tr>\n",
       "    <tr>\n",
       "      <th>37032</th>\n",
       "      <td>November 29, 2017</td>\n",
       "      <td>True.csv</td>\n",
       "      <td>worldnews</td>\n",
       "      <td>LONDON (Reuters) - Prime Minister Theresa May ...</td>\n",
       "      <td>Brexit campaigners accuse May of selling UK sh...</td>\n",
       "    </tr>\n",
       "    <tr>\n",
       "      <th>34667</th>\n",
       "      <td>January 19, 2016</td>\n",
       "      <td>True.csv</td>\n",
       "      <td>politicsNews</td>\n",
       "      <td>ALTOONA, Iowa (Reuters) - Iowa’s governor said...</td>\n",
       "      <td>Iowa governor urges caucus-goers to say 'No' t...</td>\n",
       "    </tr>\n",
       "    <tr>\n",
       "      <th>9054</th>\n",
       "      <td>18-Feb-18</td>\n",
       "      <td>Fake.csv</td>\n",
       "      <td>politics</td>\n",
       "      <td>Thank goodnesss Jeff Sessions is moving on fin...</td>\n",
       "      <td>DOJ’s JEFF SESSIONS Opens Investigation Into W...</td>\n",
       "    </tr>\n",
       "    <tr>\n",
       "      <th>7628</th>\n",
       "      <td>March 8, 2016</td>\n",
       "      <td>Fake.csv</td>\n",
       "      <td>News</td>\n",
       "      <td>In a desperate bid to normalize the Republican...</td>\n",
       "      <td>New Republican SCOTUS Tactic: Who Needs 9 Jus...</td>\n",
       "    </tr>\n",
       "  </tbody>\n",
       "</table>\n",
       "</div>"
      ],
      "text/plain": [
       "                     date     label       subject  \\\n",
       "8737     January 15, 2016  Fake.csv          News   \n",
       "37032  November 29, 2017   True.csv     worldnews   \n",
       "34667   January 19, 2016   True.csv  politicsNews   \n",
       "9054            18-Feb-18  Fake.csv      politics   \n",
       "7628        March 8, 2016  Fake.csv          News   \n",
       "\n",
       "                                                    text  \\\n",
       "8737   Earlier this week, as public outrage and media...   \n",
       "37032  LONDON (Reuters) - Prime Minister Theresa May ...   \n",
       "34667  ALTOONA, Iowa (Reuters) - Iowa’s governor said...   \n",
       "9054   Thank goodnesss Jeff Sessions is moving on fin...   \n",
       "7628   In a desperate bid to normalize the Republican...   \n",
       "\n",
       "                                                   title  \n",
       "8737    MI Gov. Dick Sends SEVEN National Guardsman T...  \n",
       "37032  Brexit campaigners accuse May of selling UK sh...  \n",
       "34667  Iowa governor urges caucus-goers to say 'No' t...  \n",
       "9054   DOJ’s JEFF SESSIONS Opens Investigation Into W...  \n",
       "7628    New Republican SCOTUS Tactic: Who Needs 9 Jus...  "
      ]
     },
     "execution_count": 2,
     "metadata": {},
     "output_type": "execute_result"
    }
   ],
   "source": [
    "# Import dataset, get the shape of the data, and shuffle to reduce bias\n",
    "path = \"/Users/max/Desktop/capstone/news.csv\"\n",
    "\n",
    "all_files = glob.glob(os.path.join(path, \"*.csv\"))\n",
    "\n",
    "all_df = []\n",
    "for f in all_files:\n",
    "    df = pd.read_csv(f, sep=',')\n",
    "    df['label'] = f.split('/')[-1]\n",
    "    all_df.append(df)\n",
    "    \n",
    "df = pd.concat(all_df, ignore_index=True, sort=True)\n",
    "\n",
    "df = shuffle(df) # randomize dataset somewhat\n",
    "print(df.shape)\n",
    "df.head()\n",
    "\n"
   ]
  },
  {
   "cell_type": "code",
   "execution_count": 3,
   "metadata": {},
   "outputs": [
    {
     "data": {
      "text/html": [
       "<div>\n",
       "<style scoped>\n",
       "    .dataframe tbody tr th:only-of-type {\n",
       "        vertical-align: middle;\n",
       "    }\n",
       "\n",
       "    .dataframe tbody tr th {\n",
       "        vertical-align: top;\n",
       "    }\n",
       "\n",
       "    .dataframe thead th {\n",
       "        text-align: right;\n",
       "    }\n",
       "</style>\n",
       "<table border=\"1\" class=\"dataframe\">\n",
       "  <thead>\n",
       "    <tr style=\"text-align: right;\">\n",
       "      <th></th>\n",
       "      <th>date</th>\n",
       "      <th>label</th>\n",
       "      <th>subject</th>\n",
       "      <th>text</th>\n",
       "      <th>title</th>\n",
       "    </tr>\n",
       "  </thead>\n",
       "  <tbody>\n",
       "    <tr>\n",
       "      <th>8737</th>\n",
       "      <td>January 15, 2016</td>\n",
       "      <td>FAKE</td>\n",
       "      <td>News</td>\n",
       "      <td>Earlier this week, as public outrage and media...</td>\n",
       "      <td>MI Gov. Dick Sends SEVEN National Guardsman T...</td>\n",
       "    </tr>\n",
       "    <tr>\n",
       "      <th>37032</th>\n",
       "      <td>November 29, 2017</td>\n",
       "      <td>REAL</td>\n",
       "      <td>worldnews</td>\n",
       "      <td>LONDON (Reuters) - Prime Minister Theresa May ...</td>\n",
       "      <td>Brexit campaigners accuse May of selling UK sh...</td>\n",
       "    </tr>\n",
       "    <tr>\n",
       "      <th>34667</th>\n",
       "      <td>January 19, 2016</td>\n",
       "      <td>REAL</td>\n",
       "      <td>politicsNews</td>\n",
       "      <td>ALTOONA, Iowa (Reuters) - Iowa’s governor said...</td>\n",
       "      <td>Iowa governor urges caucus-goers to say 'No' t...</td>\n",
       "    </tr>\n",
       "    <tr>\n",
       "      <th>9054</th>\n",
       "      <td>18-Feb-18</td>\n",
       "      <td>FAKE</td>\n",
       "      <td>politics</td>\n",
       "      <td>Thank goodnesss Jeff Sessions is moving on fin...</td>\n",
       "      <td>DOJ’s JEFF SESSIONS Opens Investigation Into W...</td>\n",
       "    </tr>\n",
       "    <tr>\n",
       "      <th>7628</th>\n",
       "      <td>March 8, 2016</td>\n",
       "      <td>FAKE</td>\n",
       "      <td>News</td>\n",
       "      <td>In a desperate bid to normalize the Republican...</td>\n",
       "      <td>New Republican SCOTUS Tactic: Who Needs 9 Jus...</td>\n",
       "    </tr>\n",
       "  </tbody>\n",
       "</table>\n",
       "</div>"
      ],
      "text/plain": [
       "                     date label       subject  \\\n",
       "8737     January 15, 2016  FAKE          News   \n",
       "37032  November 29, 2017   REAL     worldnews   \n",
       "34667   January 19, 2016   REAL  politicsNews   \n",
       "9054            18-Feb-18  FAKE      politics   \n",
       "7628        March 8, 2016  FAKE          News   \n",
       "\n",
       "                                                    text  \\\n",
       "8737   Earlier this week, as public outrage and media...   \n",
       "37032  LONDON (Reuters) - Prime Minister Theresa May ...   \n",
       "34667  ALTOONA, Iowa (Reuters) - Iowa’s governor said...   \n",
       "9054   Thank goodnesss Jeff Sessions is moving on fin...   \n",
       "7628   In a desperate bid to normalize the Republican...   \n",
       "\n",
       "                                                   title  \n",
       "8737    MI Gov. Dick Sends SEVEN National Guardsman T...  \n",
       "37032  Brexit campaigners accuse May of selling UK sh...  \n",
       "34667  Iowa governor urges caucus-goers to say 'No' t...  \n",
       "9054   DOJ’s JEFF SESSIONS Opens Investigation Into W...  \n",
       "7628    New Republican SCOTUS Tactic: Who Needs 9 Jus...  "
      ]
     },
     "execution_count": 3,
     "metadata": {},
     "output_type": "execute_result"
    }
   ],
   "source": [
    "# Change the labels to more human-friendly ‘REAL’ and ‘FAKE’ booleans.\n",
    "df.loc[(df['label'] == 'Fake.csv') , ['label']] = 'FAKE'\n",
    "df.loc[(df['label'] == 'True.csv') , ['label']] = 'REAL'\n",
    "df.head()"
   ]
  },
  {
   "cell_type": "code",
   "execution_count": 4,
   "metadata": {},
   "outputs": [
    {
     "data": {
      "text/plain": [
       "8737     FAKE\n",
       "37032    REAL\n",
       "34667    REAL\n",
       "9054     FAKE\n",
       "7628     FAKE\n",
       "Name: label, dtype: object"
      ]
     },
     "execution_count": 4,
     "metadata": {},
     "output_type": "execute_result"
    }
   ],
   "source": [
    "# Isolate the labels\n",
    "labels = df.label\n",
    "labels.head()"
   ]
  },
  {
   "cell_type": "code",
   "execution_count": 5,
   "metadata": {},
   "outputs": [],
   "source": [
    "# Split the dataset\n",
    "# 80% of the data will be used to train our model and the rest 20% will serve as testing data\n",
    "x_train,x_test,y_train,y_test=train_test_split(df['text'].values.astype('str'), labels, test_size=0.2, random_state=7)"
   ]
  },
  {
   "cell_type": "code",
   "execution_count": 6,
   "metadata": {},
   "outputs": [],
   "source": [
    "#Initialize a TfidfVectorizer\n",
    "tfidf_vectorizer=TfidfVectorizer(stop_words='english', max_df=0.7)"
   ]
  },
  {
   "cell_type": "code",
   "execution_count": 7,
   "metadata": {},
   "outputs": [],
   "source": [
    "# Fit & transform train set, transform test set\n",
    "tfidf_train=tfidf_vectorizer.fit_transform(x_train) \n",
    "tfidf_test=tfidf_vectorizer.transform(x_test)"
   ]
  },
  {
   "cell_type": "code",
   "execution_count": 8,
   "metadata": {},
   "outputs": [
    {
     "name": "stdout",
     "output_type": "stream",
     "text": [
      "['00', '000', '0000', '00000017', '00004', '00007', '000270', '0005', '0009', '000938']\n",
      "['00', '000', '0000', '00000017', '00004', '00007', '000270', '0005', '0009', '000938']\n"
     ]
    }
   ],
   "source": [
    "#Initialize a CountVectorizer\n",
    "count_vectorizer=CountVectorizer(stop_words='english')\n",
    "\n",
    "# Fit & transform train set, transform test set\n",
    "count_train=count_vectorizer.fit_transform(x_train) \n",
    "count_test=count_vectorizer.transform(x_test)\n",
    "\n",
    "# Get the feature names of `tfidf_vectorizer` \n",
    "print(tfidf_vectorizer.get_feature_names()[:10])\n",
    "\n",
    "# Get the feature names of `count_vectorizer` \n",
    "print(count_vectorizer.get_feature_names()[:10])"
   ]
  },
  {
   "cell_type": "code",
   "execution_count": 9,
   "metadata": {},
   "outputs": [
    {
     "name": "stdout",
     "output_type": "stream",
     "text": [
      "train time: 0.115s\n"
     ]
    }
   ],
   "source": [
    "# Build a naive bayes classification model and fit training sets\n",
    "t = time()\n",
    "\n",
    "naive_bayes_classifier = MultinomialNB()\n",
    "naive_bayes_classifier.fit(tfidf_train,y_train)\n",
    "\n",
    "training_time = time() - t\n",
    "print(\"train time: %0.3fs\" % training_time)"
   ]
  },
  {
   "cell_type": "code",
   "execution_count": 10,
   "metadata": {},
   "outputs": [
    {
     "name": "stdout",
     "output_type": "stream",
     "text": [
      "Accuracy: 93.55%\n",
      "Accuracy: 0.935523\n",
      "Precision: 0.935517\n",
      "Recall: 0.935523\n",
      "F1 score: 0.935514\n"
     ]
    }
   ],
   "source": [
    "# Predict and calculate accuracy\n",
    "y_pred=naive_bayes_classifier.predict(tfidf_test)\n",
    "\n",
    "score=accuracy_score(y_test,y_pred)\n",
    "print(f'Accuracy: {round(score*100,2)}%')\n",
    "\n",
    "# accuracy: (tp + tn) / (p + n)\n",
    "accuracy = accuracy_score(y_test,y_pred)\n",
    "print('Accuracy: %f' % accuracy)\n",
    "\n",
    "# precision tp / (tp + fp)\n",
    "precision = precision_score(y_test,y_pred, average='weighted')\n",
    "print('Precision: %f' % precision)\n",
    "\n",
    "# recall: tp / (tp + fn)\n",
    "recall = recall_score(y_test,y_pred, average='weighted')\n",
    "print('Recall: %f' % recall)\n",
    "\n",
    "# f1: 2 tp / (2 tp + fp + fn)\n",
    "f1 = f1_score(y_test,y_pred, average='weighted')\n",
    "print('F1 score: %f' % f1)"
   ]
  },
  {
   "cell_type": "code",
   "execution_count": 11,
   "metadata": {},
   "outputs": [
    {
     "name": "stdout",
     "output_type": "stream",
     "text": [
      "           pred:fake  pred:real\n",
      "true:fake       4454        278\n",
      "true:real        301       3947\n"
     ]
    },
    {
     "data": {
      "text/plain": [
       "<matplotlib.axes._subplots.AxesSubplot at 0x7f8117ac29d0>"
      ]
     },
     "execution_count": 11,
     "metadata": {},
     "output_type": "execute_result"
    },
    {
     "data": {
      "image/png": "[encoded data removed]",
      "text/plain": [
       "<Figure size 432x288 with 2 Axes>"
      ]
     },
     "metadata": {
      "needs_background": "light"
     },
     "output_type": "display_data"
    }
   ],
   "source": [
    "# Build confusion matrix\n",
    "import seaborn as sns\n",
    "\n",
    "import pandas as pd\n",
    "cmtx = pd.DataFrame(\n",
    "    confusion_matrix(y_test,y_pred, labels=['FAKE','REAL']), \n",
    "    index=['true:fake', 'true:real'], \n",
    "    columns=['pred:fake', 'pred:real']\n",
    ")\n",
    "print(cmtx)\n",
    "\n",
    "\n",
    "cf_matrix = confusion_matrix(y_test,y_pred, labels=['FAKE','REAL'])\n",
    "\n",
    "group_names = ['True Neg','False Pos','False Neg','True Pos']\n",
    "group_counts = [\"{0:0.0f}\".format(value) for value in\n",
    "                cf_matrix.flatten()]\n",
    "group_percentages = [\"{0:.2%}\".format(value) for value in\n",
    "                     cf_matrix.flatten()/np.sum(cf_matrix)]\n",
    "labels = [f\"{v1}\\n{v2}\\n{v3}\" for v1, v2, v3 in\n",
    "          zip(group_names,group_counts,group_percentages)]\n",
    "labels = np.asarray(labels).reshape(2,2)\n",
    "sns.heatmap(cf_matrix, annot=labels, fmt='', cmap='Blues')"
   ]
  },
  {
   "cell_type": "code",
   "execution_count": 12,
   "metadata": {},
   "outputs": [
    {
     "data": {
      "text/plain": [
       "'REAL'"
      ]
     },
     "execution_count": 12,
     "metadata": {},
     "output_type": "execute_result"
    }
   ],
   "source": [
    "def predict_category(sentence):\n",
    "    sentence_vector = tfidf_vectorizer.transform([sentence])\n",
    "    prediction = naive_bayes_classifier.predict(sentence_vector)\n",
    "    return prediction[0]\n",
    "\n",
    "sent = '''\n",
    "Trump says he will pressure states to reopen schools in fall\n",
    "'''\n",
    "\n",
    "predict_category(sent)"
   ]
  },
  {
   "cell_type": "code",
   "execution_count": 13,
   "metadata": {},
   "outputs": [
    {
     "name": "stdout",
     "output_type": "stream",
     "text": [
      "train time: 0.101s\n"
     ]
    }
   ],
   "source": [
    "# Build a naive bayes classification model and fit training sets\n",
    "t = time()\n",
    "\n",
    "naive_bayes_classifier = MultinomialNB()\n",
    "naive_bayes_classifier.fit(count_train,y_train)\n",
    "\n",
    "training_time = time() - t\n",
    "print(\"train time: %0.3fs\" % training_time)"
   ]
  },
  {
   "cell_type": "code",
   "execution_count": 14,
   "metadata": {},
   "outputs": [
    {
     "name": "stdout",
     "output_type": "stream",
     "text": [
      "Accuracy: 95.26%\n",
      "Accuracy: 0.952561\n",
      "Precision: 0.952579\n",
      "Recall: 0.952561\n",
      "F1 score: 0.952566\n"
     ]
    }
   ],
   "source": [
    "# Predict and calculate accuracy\n",
    "y_pred=naive_bayes_classifier.predict(count_test)\n",
    "score=accuracy_score(y_test,y_pred)\n",
    "print(f'Accuracy: {round(score*100,2)}%')\n",
    "\n",
    "# accuracy: (tp + tn) / (p + n)\n",
    "accuracy = accuracy_score(y_test,y_pred)\n",
    "print('Accuracy: %f' % accuracy)\n",
    "\n",
    "# precision tp / (tp + fp)\n",
    "precision = precision_score(y_test,y_pred, average='weighted')\n",
    "print('Precision: %f' % precision)\n",
    "\n",
    "# recall: tp / (tp + fn)\n",
    "recall = recall_score(y_test,y_pred, average='weighted')\n",
    "print('Recall: %f' % recall)\n",
    "\n",
    "# f1: 2 tp / (2 tp + fp + fn)\n",
    "f1 = f1_score(y_test,y_pred, average='weighted')\n",
    "print('F1 score: %f' % f1)"
   ]
  },
  {
   "cell_type": "code",
   "execution_count": 35,
   "metadata": {},
   "outputs": [
    {
     "data": {
      "text/plain": [
       "'FAKE'"
      ]
     },
     "execution_count": 35,
     "metadata": {},
     "output_type": "execute_result"
    }
   ],
   "source": [
    "def predict_category(sentence):\n",
    "    sentence_vector = count_vectorizer.transform([sentence])\n",
    "    prediction = naive_bayes_classifier.predict(sentence_vector)\n",
    "    return prediction[0]\n",
    "\n",
    "sent = '''\n",
    "A man who was revived from a drug overdose stole and crashed a police cruiser.\n",
    "'''\n",
    "\n",
    "predict_category(sent)"
   ]
  },
  {
   "cell_type": "code",
   "execution_count": null,
   "metadata": {},
   "outputs": [],
   "source": [
    "clf = MultinomialNB(alpha=0.1)\n",
    "last_score = 0\n",
    "for alpha in np.arange(0,1,.1):\n",
    "    nb_classifier = MultinomialNB(alpha=alpha)\n",
    "    nb_classifier.fit(count_train, y_train)\n",
    "    pred = nb_classifier.predict(count_test)\n",
    "    score = accuracy_score(y_test, pred)\n",
    "    if score > last_score:\n",
    "        clf = nb_classifier\n",
    "    print(\"Alpha: {:.2f} Score: {:.5f}\".format(alpha, score))"
   ]
  },
  {
   "cell_type": "code",
   "execution_count": null,
   "metadata": {},
   "outputs": [],
   "source": [
    "clf = MultinomialNB(alpha=0.1)\n",
    "last_score = 0\n",
    "for alpha in np.arange(0,1,.1):\n",
    "    nb_classifier = MultinomialNB(alpha=alpha)\n",
    "    nb_classifier.fit(tfidf_train, y_train)\n",
    "    pred = nb_classifier.predict(tfidf_test)\n",
    "    score = accuracy_score(y_test, pred)\n",
    "    if score > last_score:\n",
    "        clf = nb_classifier\n",
    "    print(\"Alpha: {:.2f} Score: {:.5f}\".format(alpha, score))"
   ]
  }
 ],
 "metadata": {
  "kernelspec": {
   "display_name": "Python 3",
   "language": "python",
   "name": "python3"
  },
  "language_info": {
   "codemirror_mode": {
    "name": "ipython",
    "version": 3
   },
   "file_extension": ".py",
   "mimetype": "text/x-python",
   "name": "python",
   "nbconvert_exporter": "python",
   "pygments_lexer": "ipython3",
   "version": "3.8.3"
  }
 },
 "nbformat": 4,
 "nbformat_minor": 4
}
